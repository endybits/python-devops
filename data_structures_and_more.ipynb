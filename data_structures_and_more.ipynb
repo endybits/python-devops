{
  "nbformat": 4,
  "nbformat_minor": 0,
  "metadata": {
    "colab": {
      "provenance": [],
      "authorship_tag": "ABX9TyO5Erv71so+yWT5gJxy/sHM",
      "include_colab_link": true
    },
    "kernelspec": {
      "name": "python3",
      "display_name": "Python 3"
    },
    "language_info": {
      "name": "python"
    }
  },
  "cells": [
    {
      "cell_type": "markdown",
      "metadata": {
        "id": "view-in-github",
        "colab_type": "text"
      },
      "source": [
        "<a href=\"https://colab.research.google.com/github/endybits/python-devops/blob/master/data_structures_and_more.ipynb\" target=\"_parent\"><img src=\"https://colab.research.google.com/assets/colab-badge.svg\" alt=\"Open In Colab\"/></a>"
      ]
    },
    {
      "cell_type": "markdown",
      "source": [
        "This colab notebook was created to show you that you can integrate it to your github project, as an alternative cloud-based environment option."
      ],
      "metadata": {
        "id": "DjmSI3yvROad"
      }
    },
    {
      "cell_type": "code",
      "execution_count": 1,
      "metadata": {
        "colab": {
          "base_uri": "https://localhost:8080/"
        },
        "id": "CkdjhaZeQnsm",
        "outputId": "00b3e66a-dcd0-4008-b49c-8fc908bcd450"
      },
      "outputs": [
        {
          "output_type": "stream",
          "name": "stdout",
          "text": [
            "Hello DevOps\n"
          ]
        }
      ],
      "source": [
        "print(\"Hello DevOps\")"
      ]
    },
    {
      "cell_type": "markdown",
      "source": [
        "Maybe in the future I'll develop some interesting data structures here!"
      ],
      "metadata": {
        "id": "G23EjZc2R1L4"
      }
    }
  ]
}